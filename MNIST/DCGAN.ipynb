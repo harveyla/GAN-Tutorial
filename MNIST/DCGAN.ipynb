{
 "cells": [
  {
   "cell_type": "markdown",
   "metadata": {},
   "source": [
    "# Implementation of Deep Convolutional GANs\n",
    "Reference: https://arxiv.org/pdf/1511.06434.pdf"
   ]
  },
  {
   "cell_type": "code",
   "execution_count": 1,
   "metadata": {},
   "outputs": [],
   "source": [
    "# Run the comment below only when using Google Colab\n",
    "# !pip install torch torchvision"
   ]
  },
  {
   "cell_type": "code",
   "execution_count": 2,
   "metadata": {},
   "outputs": [],
   "source": [
    "import torch\n",
    "import torchvision\n",
    "import torch.nn as nn\n",
    "import torch.nn.functional as F"
   ]
  },
  {
   "cell_type": "code",
   "execution_count": 3,
   "metadata": {},
   "outputs": [],
   "source": [
    "from torch.utils.data import DataLoader\n",
    "from torchvision import datasets\n",
    "from torchvision import transforms\n",
    "from torchvision.utils import save_image\n",
    "from torch.utils.tensorboard import SummaryWriter"
   ]
  },
  {
   "cell_type": "code",
   "execution_count": 4,
   "metadata": {},
   "outputs": [],
   "source": [
    "import numpy as np\n",
    "import datetime\n",
    "import os, sys\n",
    "from tqdm import tqdm_notebook as tqdm"
   ]
  },
  {
   "cell_type": "code",
   "execution_count": 5,
   "metadata": {},
   "outputs": [],
   "source": [
    "from matplotlib.pyplot import imshow, imsave\n",
    "%matplotlib inline"
   ]
  },
  {
   "cell_type": "code",
   "execution_count": 6,
   "metadata": {},
   "outputs": [],
   "source": [
    "MODEL_NAME = 'DCGAN'\n",
    "DEVICE = torch.device(\"cuda:0\" if torch.cuda.is_available() else \"cpu\")"
   ]
  },
  {
   "cell_type": "code",
   "execution_count": 7,
   "metadata": {},
   "outputs": [],
   "source": [
    "def get_sample_image(G, n_noise):\n",
    "    \"\"\"\n",
    "        save sample 100 images\n",
    "    \"\"\"\n",
    "    z = torch.randn(100, n_noise).to(DEVICE)\n",
    "    y_hat = G(z) # (100, 1, 28, 28)\n",
    "    result = y_hat.view(100, 28, 28).cpu().data.numpy()\n",
    "    img = np.zeros([280, 280])\n",
    "    for j in range(10):\n",
    "        img[j*28:(j+1)*28] = np.concatenate([x for x in result[j*10:(j+1)*10]], axis=-1)\n",
    "    return img, y_hat"
   ]
  },
  {
   "cell_type": "code",
   "execution_count": 8,
   "metadata": {},
   "outputs": [],
   "source": [
    "class Discriminator(nn.Module):\n",
    "    \"\"\"\n",
    "        Convolutional Discriminator for MNIST\n",
    "    \"\"\"\n",
    "    def __init__(self, in_channel=1, num_classes=1):\n",
    "        super(Discriminator, self).__init__()\n",
    "        self.conv = nn.Sequential(\n",
    "            # 28 -> 14\n",
    "            nn.Conv2d(in_channel, 512, 3, stride=2, padding=1, bias=False),\n",
    "            nn.BatchNorm2d(512),\n",
    "            nn.LeakyReLU(0.2),\n",
    "            # 14 -> 7\n",
    "            nn.Conv2d(512, 256, 3, stride=2, padding=1, bias=False),\n",
    "            nn.BatchNorm2d(256),\n",
    "            nn.LeakyReLU(0.2),\n",
    "            # 7 -> 4\n",
    "            nn.Conv2d(256, 128, 3, stride=2, padding=1, bias=False),\n",
    "            nn.BatchNorm2d(128),\n",
    "            nn.LeakyReLU(0.2),\n",
    "            nn.AvgPool2d(4),\n",
    "        )\n",
    "        self.fc = nn.Sequential(\n",
    "            # reshape input, 128 -> 1\n",
    "            nn.Linear(128, 1),\n",
    "            nn.Sigmoid(),\n",
    "        )\n",
    "    \n",
    "    def forward(self, x, y=None):\n",
    "        y_ = self.conv(x)\n",
    "        y_ = y_.view(y_.size(0), -1)\n",
    "        y_ = self.fc(y_)\n",
    "        return y_"
   ]
  },
  {
   "cell_type": "code",
   "execution_count": 9,
   "metadata": {},
   "outputs": [],
   "source": [
    "class Generator(nn.Module):\n",
    "    \"\"\"\n",
    "        Convolutional Generator for MNIST\n",
    "    \"\"\"\n",
    "    def __init__(self, input_size=100, num_classes=784):\n",
    "        super(Generator, self).__init__()\n",
    "        self.fc = nn.Sequential(\n",
    "            nn.Linear(input_size, 4*4*512),\n",
    "            nn.ReLU(),\n",
    "        )\n",
    "        self.conv = nn.Sequential( # upsampling\n",
    "            # input: 4 by 4, output: 7 by 7\n",
    "            nn.ConvTranspose2d(512, 256, 3, stride=2, padding=1, bias=False),\n",
    "            nn.BatchNorm2d(256),\n",
    "            nn.ReLU(),\n",
    "            # input: 7 by 7, output: 14 by 14\n",
    "            nn.ConvTranspose2d(256, 128, 4, stride=2, padding=1, bias=False),\n",
    "            nn.BatchNorm2d(128),\n",
    "            nn.ReLU(),\n",
    "            # input: 14 by 14, output: 28 by 28\n",
    "            nn.ConvTranspose2d(128, 1, 4, stride=2, padding=1, bias=False),\n",
    "            nn.Tanh(),\n",
    "        )\n",
    "        \n",
    "    def forward(self, x, y=None):\n",
    "        x = x.view(x.size(0), -1)\n",
    "        y_ = self.fc(x)\n",
    "        y_ = y_.view(y_.size(0), 512, 4, 4)\n",
    "        y_ = self.conv(y_)\n",
    "        return y_"
   ]
  },
  {
   "cell_type": "code",
   "execution_count": 10,
   "metadata": {},
   "outputs": [],
   "source": [
    "D = Discriminator().to(DEVICE)\n",
    "G = Generator().to(DEVICE)\n",
    "# D.load_state_dict('D_dc.pkl')\n",
    "# G.load_state_dict('G_dc.pkl')"
   ]
  },
  {
   "cell_type": "code",
   "execution_count": 11,
   "metadata": {},
   "outputs": [],
   "source": [
    "transform = transforms.Compose([transforms.ToTensor(),\n",
    "                                transforms.Normalize(mean=[0.5],\n",
    "                                std=[0.5])]\n",
    ")"
   ]
  },
  {
   "cell_type": "code",
   "execution_count": 12,
   "metadata": {},
   "outputs": [],
   "source": [
    "mnist = datasets.MNIST(root='../data/', train=True, transform=transform, download=True)"
   ]
  },
  {
   "cell_type": "code",
   "execution_count": 13,
   "metadata": {},
   "outputs": [],
   "source": [
    "batch_size = 64"
   ]
  },
  {
   "cell_type": "code",
   "execution_count": 15,
   "metadata": {},
   "outputs": [],
   "source": [
    "data_loader = DataLoader(dataset=mnist, batch_size=batch_size, num_workers=16, shuffle=True, drop_last=True)"
   ]
  },
  {
   "cell_type": "code",
   "execution_count": 16,
   "metadata": {},
   "outputs": [],
   "source": [
    "from itertools import product\n",
    "parameters = dict(\n",
    "    lr = [0.001],\n",
    "    n_critic = [1]\n",
    ")\n",
    "param_values = [v for v in parameters.values()]\n"
   ]
  },
  {
   "cell_type": "code",
   "execution_count": 17,
   "metadata": {},
   "outputs": [],
   "source": [
    "criterion = nn.BCELoss()"
   ]
  },
  {
   "cell_type": "code",
   "execution_count": 18,
   "metadata": {},
   "outputs": [],
   "source": [
    "max_epoch = 100 # need more than 20 epochs for training generator\n",
    "n_noise = 100"
   ]
  },
  {
   "cell_type": "code",
   "execution_count": 19,
   "metadata": {},
   "outputs": [],
   "source": [
    "image, _ = next(iter(data_loader))\n",
    "grid = torchvision.utils.make_grid(image)\n",
    "#tb.add_graph(D, image)"
   ]
  },
  {
   "cell_type": "code",
   "execution_count": 20,
   "metadata": {},
   "outputs": [],
   "source": [
    "D_labels = torch.ones([batch_size, 1]).to(DEVICE) # Discriminator Label to real\n",
    "D_fakes = torch.zeros([batch_size, 1]).to(DEVICE) # Discriminator Label to fake"
   ]
  },
  {
   "cell_type": "code",
   "execution_count": 21,
   "metadata": {
    "scrolled": true
   },
   "outputs": [
    {
     "data": {
      "application/vnd.jupyter.widget-view+json": {
       "model_id": "87a01671fc44490bb6e2d377e7627ebc",
       "version_major": 2,
       "version_minor": 0
      },
      "text/plain": [
       "HBox(children=(IntProgress(value=0), HTML(value='')))"
      ]
     },
     "metadata": {},
     "output_type": "display_data"
    },
    {
     "name": "stdout",
     "output_type": "stream",
     "text": [
      "Epoch: 0/100, Step: 0, D Loss: 1.3804218769073486, G Loss: 0.7133513689041138\n",
      "Epoch: 0/100, Step: 500, D Loss: 1.0729868412017822, G Loss: 0.8816018104553223\n",
      "Epoch: 1/100, Step: 1000, D Loss: 1.1735618114471436, G Loss: 1.183627724647522\n",
      "Epoch: 1/100, Step: 1500, D Loss: 1.12717604637146, G Loss: 0.9420187473297119\n",
      "Epoch: 2/100, Step: 2000, D Loss: 1.1233429908752441, G Loss: 1.0345330238342285\n",
      "Epoch: 2/100, Step: 2500, D Loss: 0.8916980028152466, G Loss: 1.1802432537078857\n",
      "Epoch: 3/100, Step: 3000, D Loss: 0.9536949396133423, G Loss: 0.8442351818084717\n",
      "Epoch: 3/100, Step: 3500, D Loss: 1.0016138553619385, G Loss: 1.441192865371704\n",
      "Epoch: 4/100, Step: 4000, D Loss: 1.0343832969665527, G Loss: 1.3200480937957764\n",
      "Epoch: 4/100, Step: 4500, D Loss: 0.9812076091766357, G Loss: 1.1752564907073975\n",
      "Epoch: 5/100, Step: 5000, D Loss: 0.9734280109405518, G Loss: 0.9579102993011475\n",
      "Epoch: 5/100, Step: 5500, D Loss: 0.9310612082481384, G Loss: 1.579223394393921\n",
      "Epoch: 6/100, Step: 6000, D Loss: 0.9667491912841797, G Loss: 1.1408522129058838\n",
      "Epoch: 6/100, Step: 6500, D Loss: 1.0443873405456543, G Loss: 1.1689088344573975\n",
      "Epoch: 7/100, Step: 7000, D Loss: 1.3297154903411865, G Loss: 0.645412802696228\n",
      "Epoch: 8/100, Step: 7500, D Loss: 0.9668163657188416, G Loss: 0.590491771697998\n",
      "Epoch: 8/100, Step: 8000, D Loss: 0.7881209850311279, G Loss: 1.3078417778015137\n",
      "Epoch: 9/100, Step: 8500, D Loss: 0.9429601430892944, G Loss: 0.6623326539993286\n",
      "Epoch: 9/100, Step: 9000, D Loss: 0.8972389698028564, G Loss: 1.661930799484253\n",
      "Epoch: 10/100, Step: 9500, D Loss: 0.7582997679710388, G Loss: 1.513920545578003\n",
      "Epoch: 10/100, Step: 10000, D Loss: 0.8067941069602966, G Loss: 1.2464896440505981\n",
      "Epoch: 11/100, Step: 10500, D Loss: 0.9038584232330322, G Loss: 0.715389609336853\n",
      "Epoch: 11/100, Step: 11000, D Loss: 1.105538249015808, G Loss: 1.8378591537475586\n",
      "Epoch: 12/100, Step: 11500, D Loss: 0.8896315097808838, G Loss: 1.1418633460998535\n",
      "Epoch: 12/100, Step: 12000, D Loss: 0.8251763582229614, G Loss: 1.244747281074524\n",
      "Epoch: 13/100, Step: 12500, D Loss: 0.8717350363731384, G Loss: 1.655399203300476\n",
      "Epoch: 13/100, Step: 13000, D Loss: 0.7563643455505371, G Loss: 1.2399568557739258\n",
      "Epoch: 14/100, Step: 13500, D Loss: 0.8920689821243286, G Loss: 1.3510980606079102\n",
      "Epoch: 14/100, Step: 14000, D Loss: 0.791272759437561, G Loss: 1.5272679328918457\n",
      "Epoch: 15/100, Step: 14500, D Loss: 1.0270929336547852, G Loss: 0.5972196459770203\n",
      "Epoch: 16/100, Step: 15000, D Loss: 0.7002601623535156, G Loss: 0.9931819438934326\n",
      "Epoch: 16/100, Step: 15500, D Loss: 0.926403284072876, G Loss: 1.3746254444122314\n",
      "Epoch: 17/100, Step: 16000, D Loss: 0.8324562311172485, G Loss: 1.3149902820587158\n",
      "Epoch: 17/100, Step: 16500, D Loss: 0.7274270057678223, G Loss: 1.3248591423034668\n",
      "Epoch: 18/100, Step: 17000, D Loss: 0.9993840456008911, G Loss: 2.2336649894714355\n",
      "Epoch: 18/100, Step: 17500, D Loss: 0.8519447445869446, G Loss: 1.0705969333648682\n",
      "Epoch: 19/100, Step: 18000, D Loss: 0.9014260768890381, G Loss: 0.7796435356140137\n",
      "Epoch: 19/100, Step: 18500, D Loss: 0.8568332195281982, G Loss: 1.2498128414154053\n",
      "Epoch: 20/100, Step: 19000, D Loss: 0.6552788615226746, G Loss: 1.401343584060669\n",
      "Epoch: 20/100, Step: 19500, D Loss: 1.0020074844360352, G Loss: 0.7431306838989258\n",
      "Epoch: 21/100, Step: 20000, D Loss: 0.5780869722366333, G Loss: 1.4238066673278809\n",
      "Epoch: 21/100, Step: 20500, D Loss: 1.137289047241211, G Loss: 1.2326796054840088\n",
      "Epoch: 22/100, Step: 21000, D Loss: 0.7113953232765198, G Loss: 2.083493709564209\n",
      "Epoch: 22/100, Step: 21500, D Loss: 0.881430447101593, G Loss: 1.2513618469238281\n",
      "Epoch: 23/100, Step: 22000, D Loss: 0.9207508563995361, G Loss: 1.6608680486679077\n",
      "Epoch: 24/100, Step: 22500, D Loss: 0.7020946741104126, G Loss: 1.5566987991333008\n",
      "Epoch: 24/100, Step: 23000, D Loss: 0.9057761430740356, G Loss: 1.1018142700195312\n",
      "Epoch: 25/100, Step: 23500, D Loss: 0.8259320259094238, G Loss: 1.3455135822296143\n",
      "Epoch: 25/100, Step: 24000, D Loss: 0.7756863832473755, G Loss: 1.4182467460632324\n",
      "Epoch: 26/100, Step: 24500, D Loss: 0.7447710037231445, G Loss: 1.4310063123703003\n",
      "Epoch: 26/100, Step: 25000, D Loss: 0.9435939788818359, G Loss: 1.0831587314605713\n",
      "Epoch: 27/100, Step: 25500, D Loss: 0.7482161521911621, G Loss: 1.5595567226409912\n",
      "Epoch: 27/100, Step: 26000, D Loss: 0.6061829328536987, G Loss: 1.8303558826446533\n",
      "Epoch: 28/100, Step: 26500, D Loss: 0.7382173538208008, G Loss: 1.3899486064910889\n",
      "Epoch: 28/100, Step: 27000, D Loss: 0.7087056636810303, G Loss: 1.6187385320663452\n",
      "Epoch: 29/100, Step: 27500, D Loss: 0.8410698175430298, G Loss: 0.9347836971282959\n",
      "Epoch: 29/100, Step: 28000, D Loss: 0.7234144806861877, G Loss: 1.599956750869751\n",
      "Epoch: 30/100, Step: 28500, D Loss: 0.6131454110145569, G Loss: 1.590745449066162\n",
      "Epoch: 30/100, Step: 29000, D Loss: 0.7802900075912476, G Loss: 1.0817668437957764\n",
      "Epoch: 31/100, Step: 29500, D Loss: 0.8918871879577637, G Loss: 1.1733996868133545\n",
      "Epoch: 32/100, Step: 30000, D Loss: 0.5139240026473999, G Loss: 1.8650730848312378\n",
      "Epoch: 32/100, Step: 30500, D Loss: 0.9588251113891602, G Loss: 1.3411400318145752\n",
      "Epoch: 33/100, Step: 31000, D Loss: 0.8093750476837158, G Loss: 2.082996368408203\n",
      "Epoch: 33/100, Step: 31500, D Loss: 1.0589723587036133, G Loss: 1.2764179706573486\n",
      "Epoch: 34/100, Step: 32000, D Loss: 0.7042578458786011, G Loss: 2.428284168243408\n",
      "Epoch: 34/100, Step: 32500, D Loss: 0.5312862396240234, G Loss: 0.9542000889778137\n",
      "Epoch: 35/100, Step: 33000, D Loss: 0.6468174457550049, G Loss: 1.7515184879302979\n",
      "Epoch: 35/100, Step: 33500, D Loss: 0.8062880039215088, G Loss: 1.5297996997833252\n",
      "Epoch: 36/100, Step: 34000, D Loss: 0.7051368951797485, G Loss: 1.8929014205932617\n",
      "Epoch: 36/100, Step: 34500, D Loss: 0.7793778777122498, G Loss: 1.2988190650939941\n",
      "Epoch: 37/100, Step: 35000, D Loss: 0.5344798564910889, G Loss: 1.2623176574707031\n",
      "Epoch: 37/100, Step: 35500, D Loss: 0.6883504986763, G Loss: 1.6243621110916138\n",
      "Epoch: 38/100, Step: 36000, D Loss: 0.5529147982597351, G Loss: 1.7029998302459717\n",
      "Epoch: 38/100, Step: 36500, D Loss: 0.658385157585144, G Loss: 1.4223283529281616\n",
      "Epoch: 39/100, Step: 37000, D Loss: 0.9961553812026978, G Loss: 1.818406581878662\n",
      "Epoch: 40/100, Step: 37500, D Loss: 0.5978250503540039, G Loss: 2.2379114627838135\n",
      "Epoch: 40/100, Step: 38000, D Loss: 0.626162052154541, G Loss: 1.5567359924316406\n",
      "Epoch: 41/100, Step: 38500, D Loss: 0.5626081824302673, G Loss: 1.454153060913086\n",
      "Epoch: 41/100, Step: 39000, D Loss: 0.8554933071136475, G Loss: 1.0193920135498047\n",
      "Epoch: 42/100, Step: 39500, D Loss: 0.5205255150794983, G Loss: 1.38621187210083\n",
      "Epoch: 42/100, Step: 40000, D Loss: 0.5667023062705994, G Loss: 1.4175724983215332\n",
      "Epoch: 43/100, Step: 40500, D Loss: 0.6809706091880798, G Loss: 1.4389199018478394\n",
      "Epoch: 43/100, Step: 41000, D Loss: 0.5664975643157959, G Loss: 2.096317768096924\n",
      "Epoch: 44/100, Step: 41500, D Loss: 0.7875803112983704, G Loss: 2.5782527923583984\n",
      "Epoch: 44/100, Step: 42000, D Loss: 0.40333035588264465, G Loss: 2.0175764560699463\n",
      "Epoch: 45/100, Step: 42500, D Loss: 0.7264007925987244, G Loss: 1.661957025527954\n",
      "Epoch: 45/100, Step: 43000, D Loss: 0.5817670226097107, G Loss: 1.3505297899246216\n",
      "Epoch: 46/100, Step: 43500, D Loss: 0.5808386206626892, G Loss: 1.1209778785705566\n",
      "Epoch: 46/100, Step: 44000, D Loss: 0.8034137487411499, G Loss: 1.2110986709594727\n",
      "Epoch: 47/100, Step: 44500, D Loss: 0.6237726211547852, G Loss: 2.126439094543457\n",
      "Epoch: 48/100, Step: 45000, D Loss: 0.49014148116111755, G Loss: 2.1059024333953857\n",
      "Epoch: 48/100, Step: 45500, D Loss: 0.6321073770523071, G Loss: 1.3614833354949951\n",
      "Epoch: 49/100, Step: 46000, D Loss: 0.5496296882629395, G Loss: 1.637385368347168\n",
      "Epoch: 49/100, Step: 46500, D Loss: 1.0123662948608398, G Loss: 2.8818252086639404\n",
      "Epoch: 50/100, Step: 47000, D Loss: 0.5411932468414307, G Loss: 1.3249471187591553\n",
      "Epoch: 50/100, Step: 47500, D Loss: 0.47736984491348267, G Loss: 1.8781862258911133\n",
      "Epoch: 51/100, Step: 48000, D Loss: 0.6805325150489807, G Loss: 1.2688250541687012\n",
      "Epoch: 51/100, Step: 48500, D Loss: 0.3624892234802246, G Loss: 2.930828094482422\n",
      "Epoch: 52/100, Step: 49000, D Loss: 0.5117953419685364, G Loss: 2.197827100753784\n",
      "Epoch: 52/100, Step: 49500, D Loss: 0.5462528467178345, G Loss: 2.0430915355682373\n"
     ]
    },
    {
     "name": "stdout",
     "output_type": "stream",
     "text": [
      "Epoch: 53/100, Step: 50000, D Loss: 0.6286411285400391, G Loss: 1.7163039445877075\n",
      "Epoch: 53/100, Step: 50500, D Loss: 0.9815624952316284, G Loss: 2.5046186447143555\n",
      "Epoch: 54/100, Step: 51000, D Loss: 0.4826280474662781, G Loss: 1.188743233680725\n",
      "Epoch: 54/100, Step: 51500, D Loss: 0.8324460983276367, G Loss: 1.2125186920166016\n",
      "Epoch: 55/100, Step: 52000, D Loss: 0.7167613506317139, G Loss: 3.1616032123565674\n",
      "Epoch: 56/100, Step: 52500, D Loss: 1.100226879119873, G Loss: 3.0584585666656494\n",
      "Epoch: 56/100, Step: 53000, D Loss: 0.6264567375183105, G Loss: 1.3209095001220703\n",
      "Epoch: 57/100, Step: 53500, D Loss: 0.6786563992500305, G Loss: 2.3817906379699707\n",
      "Epoch: 57/100, Step: 54000, D Loss: 0.31734418869018555, G Loss: 1.6064975261688232\n",
      "Epoch: 58/100, Step: 54500, D Loss: 0.6189221143722534, G Loss: 1.0234925746917725\n",
      "Epoch: 58/100, Step: 55000, D Loss: 0.5543351173400879, G Loss: 2.112746477127075\n",
      "Epoch: 59/100, Step: 55500, D Loss: 0.3939827084541321, G Loss: 1.648221492767334\n",
      "Epoch: 59/100, Step: 56000, D Loss: 0.5373807549476624, G Loss: 1.157056212425232\n",
      "Epoch: 60/100, Step: 56500, D Loss: 0.7775006890296936, G Loss: 2.8355841636657715\n",
      "Epoch: 60/100, Step: 57000, D Loss: 0.5251111388206482, G Loss: 2.201387405395508\n",
      "Epoch: 61/100, Step: 57500, D Loss: 0.9496723413467407, G Loss: 0.599224328994751\n",
      "Epoch: 61/100, Step: 58000, D Loss: 0.5702603459358215, G Loss: 1.8495104312896729\n",
      "Epoch: 62/100, Step: 58500, D Loss: 0.5595844388008118, G Loss: 3.0352306365966797\n",
      "Epoch: 62/100, Step: 59000, D Loss: 0.39790916442871094, G Loss: 0.7997908592224121\n",
      "Epoch: 63/100, Step: 59500, D Loss: 0.4450295567512512, G Loss: 1.2417789697647095\n",
      "Epoch: 64/100, Step: 60000, D Loss: 0.7732455730438232, G Loss: 3.6998729705810547\n",
      "Epoch: 64/100, Step: 60500, D Loss: 0.33063703775405884, G Loss: 3.0142784118652344\n",
      "Epoch: 65/100, Step: 61000, D Loss: 0.5315971374511719, G Loss: 2.3492541313171387\n",
      "Epoch: 65/100, Step: 61500, D Loss: 0.4601682722568512, G Loss: 2.1796913146972656\n",
      "Epoch: 66/100, Step: 62000, D Loss: 0.43439793586730957, G Loss: 1.4957941770553589\n",
      "Epoch: 66/100, Step: 62500, D Loss: 0.5039283037185669, G Loss: 2.213759660720825\n",
      "Epoch: 67/100, Step: 63000, D Loss: 0.20444311201572418, G Loss: 1.060816764831543\n",
      "Epoch: 67/100, Step: 63500, D Loss: 0.6263716816902161, G Loss: 2.4821224212646484\n",
      "Epoch: 68/100, Step: 64000, D Loss: 0.7394564151763916, G Loss: 3.2127695083618164\n",
      "Epoch: 68/100, Step: 64500, D Loss: 0.2772747874259949, G Loss: 3.21005916595459\n",
      "Epoch: 69/100, Step: 65000, D Loss: 0.26660263538360596, G Loss: 1.850184679031372\n",
      "Epoch: 69/100, Step: 65500, D Loss: 0.7411206364631653, G Loss: 2.845548152923584\n",
      "Epoch: 70/100, Step: 66000, D Loss: 0.3979545831680298, G Loss: 1.9524598121643066\n",
      "Epoch: 70/100, Step: 66500, D Loss: 0.5410960912704468, G Loss: 1.8106689453125\n",
      "Epoch: 71/100, Step: 67000, D Loss: 0.2619496285915375, G Loss: 3.220064163208008\n",
      "Epoch: 72/100, Step: 67500, D Loss: 0.3556710481643677, G Loss: 1.5828115940093994\n",
      "Epoch: 72/100, Step: 68000, D Loss: 1.1070564985275269, G Loss: 2.961872100830078\n",
      "Epoch: 73/100, Step: 68500, D Loss: 0.3383827805519104, G Loss: 1.9047057628631592\n",
      "Epoch: 73/100, Step: 69000, D Loss: 0.47002553939819336, G Loss: 1.873530387878418\n",
      "Epoch: 74/100, Step: 69500, D Loss: 0.42979884147644043, G Loss: 2.811436176300049\n",
      "Epoch: 74/100, Step: 70000, D Loss: 0.34816986322402954, G Loss: 1.960322380065918\n",
      "Epoch: 75/100, Step: 70500, D Loss: 0.678045928478241, G Loss: 3.7245993614196777\n",
      "Epoch: 75/100, Step: 71000, D Loss: 0.5198139548301697, G Loss: 1.6909055709838867\n",
      "Epoch: 76/100, Step: 71500, D Loss: 0.33578699827194214, G Loss: 2.2344918251037598\n",
      "Epoch: 76/100, Step: 72000, D Loss: 0.4196207821369171, G Loss: 1.42487633228302\n",
      "Epoch: 77/100, Step: 72500, D Loss: 0.5162909626960754, G Loss: 2.074962615966797\n",
      "Epoch: 77/100, Step: 73000, D Loss: 0.3540611267089844, G Loss: 1.9203341007232666\n",
      "Epoch: 78/100, Step: 73500, D Loss: 0.49102747440338135, G Loss: 0.9705959558486938\n",
      "Epoch: 78/100, Step: 74000, D Loss: 0.4218500852584839, G Loss: 1.6305134296417236\n",
      "Epoch: 79/100, Step: 74500, D Loss: 0.49457675218582153, G Loss: 3.772855758666992\n",
      "Epoch: 80/100, Step: 75000, D Loss: 0.555281400680542, G Loss: 1.7452573776245117\n",
      "Epoch: 80/100, Step: 75500, D Loss: 0.48945266008377075, G Loss: 2.657302141189575\n",
      "Epoch: 81/100, Step: 76000, D Loss: 0.9967057704925537, G Loss: 3.0970308780670166\n",
      "Epoch: 81/100, Step: 76500, D Loss: 0.2118675261735916, G Loss: 3.1279096603393555\n",
      "Epoch: 82/100, Step: 77000, D Loss: 0.2588822841644287, G Loss: 3.162393093109131\n",
      "Epoch: 82/100, Step: 77500, D Loss: 0.2836817800998688, G Loss: 3.020118236541748\n",
      "Epoch: 83/100, Step: 78000, D Loss: 0.4955853819847107, G Loss: 1.4945447444915771\n",
      "Epoch: 83/100, Step: 78500, D Loss: 0.22751376032829285, G Loss: 3.004629135131836\n",
      "Epoch: 84/100, Step: 79000, D Loss: 0.29553741216659546, G Loss: 3.2285919189453125\n",
      "Epoch: 84/100, Step: 79500, D Loss: 0.29446110129356384, G Loss: 2.261040210723877\n",
      "Epoch: 85/100, Step: 80000, D Loss: 0.49846524000167847, G Loss: 3.370823383331299\n",
      "Epoch: 85/100, Step: 80500, D Loss: 0.37534672021865845, G Loss: 1.786486268043518\n",
      "Epoch: 86/100, Step: 81000, D Loss: 0.28946995735168457, G Loss: 2.8520560264587402\n",
      "Epoch: 86/100, Step: 81500, D Loss: 0.46481308341026306, G Loss: 1.7780201435089111\n",
      "Epoch: 87/100, Step: 82000, D Loss: 0.5329423546791077, G Loss: 3.0194194316864014\n",
      "Epoch: 88/100, Step: 82500, D Loss: 0.4001903235912323, G Loss: 2.4229776859283447\n",
      "Epoch: 88/100, Step: 83000, D Loss: 0.6078746914863586, G Loss: 3.891512393951416\n",
      "Epoch: 89/100, Step: 83500, D Loss: 0.377981036901474, G Loss: 2.997330665588379\n",
      "Epoch: 89/100, Step: 84000, D Loss: 0.5282847881317139, G Loss: 2.5070126056671143\n",
      "Epoch: 90/100, Step: 84500, D Loss: 0.2899880111217499, G Loss: 1.9685107469558716\n",
      "Epoch: 90/100, Step: 85000, D Loss: 0.33048540353775024, G Loss: 2.6357815265655518\n",
      "Epoch: 91/100, Step: 85500, D Loss: 0.2701553404331207, G Loss: 2.3013129234313965\n",
      "Epoch: 91/100, Step: 86000, D Loss: 0.32286423444747925, G Loss: 2.4914326667785645\n",
      "Epoch: 92/100, Step: 86500, D Loss: 0.25108516216278076, G Loss: 2.377030849456787\n",
      "Epoch: 92/100, Step: 87000, D Loss: 0.44013547897338867, G Loss: 3.3524365425109863\n",
      "Epoch: 93/100, Step: 87500, D Loss: 0.3404086232185364, G Loss: 3.7472286224365234\n",
      "Epoch: 93/100, Step: 88000, D Loss: 0.24311962723731995, G Loss: 2.460906744003296\n",
      "Epoch: 94/100, Step: 88500, D Loss: 0.7753172516822815, G Loss: 2.3625354766845703\n",
      "Epoch: 94/100, Step: 89000, D Loss: 0.2184530347585678, G Loss: 3.0704774856567383\n",
      "Epoch: 95/100, Step: 89500, D Loss: 0.22927086055278778, G Loss: 1.2871482372283936\n",
      "Epoch: 96/100, Step: 90000, D Loss: 0.4829798936843872, G Loss: 3.6182329654693604\n",
      "Epoch: 96/100, Step: 90500, D Loss: 0.16482225060462952, G Loss: 2.8638453483581543\n",
      "Epoch: 97/100, Step: 91000, D Loss: 0.2830720543861389, G Loss: 3.202360153198242\n",
      "Epoch: 97/100, Step: 91500, D Loss: 0.28376901149749756, G Loss: 1.713716983795166\n",
      "Epoch: 98/100, Step: 92000, D Loss: 0.4764457941055298, G Loss: 0.701213002204895\n",
      "Epoch: 98/100, Step: 92500, D Loss: 0.5155123472213745, G Loss: 2.5541324615478516\n",
      "Epoch: 99/100, Step: 93000, D Loss: 0.15303677320480347, G Loss: 3.7022438049316406\n",
      "Epoch: 99/100, Step: 93500, D Loss: 0.36193007230758667, G Loss: 2.521428108215332\n",
      "\n"
     ]
    }
   ],
   "source": [
    "D_x_loss_full, D_z_loss_full, D_loss_full, G_loss_full = 0,0,0,0\n",
    "for lr, nc in product(*param_values): \n",
    "    D = Discriminator().to(DEVICE)\n",
    "    G = Generator().to(DEVICE)\n",
    "    D_opt = torch.optim.Adam(D.parameters(), lr=0.0002, betas=(0.5, 0.999))\n",
    "    G_opt = torch.optim.Adam(G.parameters(), lr=lr, betas=(0.5, 0.999))\n",
    "    n_critic = nc # for training more k steps about Discriminator\n",
    "    comment = f'{MODEL_NAME} batch_size={batch_size} lr=0.0002,{lr} n_critic={n_critic}'\n",
    "    if not os.path.exists(f'samples/{comment}'): os.makedirs(f'samples/{comment}')\n",
    "    tb = SummaryWriter(comment=comment)\n",
    "    tb.add_image('images',grid)\n",
    "    step = 0\n",
    "    for epoch in tqdm(range(max_epoch)):\n",
    "        for idx, (images, _) in enumerate(data_loader):\n",
    "            # Training Discriminator\n",
    "            x = images.to(DEVICE)\n",
    "            x_outputs = D(x)\n",
    "            D_x_loss = criterion(x_outputs, D_labels) # to true label loss\n",
    "            D_x_loss_full += D_x_loss\n",
    "\n",
    "            z = torch.randn(batch_size, n_noise).to(DEVICE)\n",
    "            z_outputs = D(G(z))\n",
    "            D_z_loss = criterion(z_outputs, D_fakes) # to fake label loss\n",
    "            D_loss = D_x_loss + D_z_loss\n",
    "            D_z_loss_full += D_z_loss\n",
    "            D_loss_full += D_loss\n",
    "\n",
    "            D_opt.zero_grad()\n",
    "            D_loss.backward()\n",
    "            D_opt.step()\n",
    "\n",
    "            if step % n_critic == 0:\n",
    "                # Training Generator\n",
    "                z = torch.randn(batch_size, n_noise).to(DEVICE)\n",
    "                z_outputs = D(G(z))\n",
    "                G_loss = criterion(z_outputs, D_labels) # to true label loss\n",
    "                G_loss_full += G_loss\n",
    "\n",
    "                G_opt.zero_grad()\n",
    "                G_loss.backward()\n",
    "                G_opt.step()\n",
    "\n",
    "            if step % 500 == 0:\n",
    "                print('Epoch: {}/{}, Step: {}, D Loss: {}, G Loss: {}'.format(epoch, max_epoch, step, D_loss.item(), G_loss.item()))\n",
    "                if step > 0:\n",
    "                    tb.add_scalars('losses', {\n",
    "                        'D_x_loss': D_x_loss_full/500,\n",
    "                        'D_z_loss': D_z_loss_full/500,\n",
    "                        'D_loss': D_loss_full/500,\n",
    "                        'G_loss': G_loss_full/500*n_critic\n",
    "                    }, step)\n",
    "                    tb.add_scalar('D_x_loss', D_x_loss_full/500, step)\n",
    "                    D_x_loss_full = 0\n",
    "                    tb.add_scalar('D_z_loss', D_z_loss_full/500, step)\n",
    "                    D_z_loss_full = 0\n",
    "                    tb.add_scalar('D_loss', D_loss_full/500, step)\n",
    "                    D_loss_full = 0\n",
    "                    tb.add_scalar('G_loss', G_loss_full/500*n_critic, step)\n",
    "                    G_loss_full = 0\n",
    "                else:\n",
    "                    tb.add_scalars('losses', {\n",
    "                        'D_x_loss': D_x_loss_full,\n",
    "                        'D_z_loss': D_z_loss_full,\n",
    "                        'D_loss': D_loss_full,\n",
    "                        'G_loss': G_loss_full\n",
    "                    }, step)\n",
    "                    tb.add_scalar('D_x_loss', D_x_loss_full, step)\n",
    "                    tb.add_scalar('D_z_loss', D_z_loss_full, step)\n",
    "                    tb.add_scalar('D_loss', D_loss_full, step)\n",
    "                    tb.add_scalar('G_loss', G_loss_full, step)\n",
    "\n",
    "                for name, weight in D.named_parameters():\n",
    "                    tb.add_histogram(name, weight, epoch)\n",
    "                    tb.add_histogram(f'{name}.grad', weight.grad, epoch)\n",
    "\n",
    "            if step % 2000 == 0:\n",
    "                G.eval()\n",
    "                img, y_hat = get_sample_image(G, n_noise)\n",
    "                grid = torchvision.utils.make_grid(y_hat)\n",
    "                tb.add_image(f'step_{step}', grid)\n",
    "                imsave('samples/{}/{}_step{}.jpg'.format(comment, MODEL_NAME, str(step).zfill(3)), img, cmap='gray')\n",
    "                G.train()\n",
    "            step += 1"
   ]
  },
  {
   "cell_type": "markdown",
   "metadata": {},
   "source": [
    "## Sample"
   ]
  },
  {
   "cell_type": "code",
   "execution_count": 18,
   "metadata": {},
   "outputs": [
    {
     "data": {
      "text/plain": [
       "<matplotlib.image.AxesImage at 0x1e152e82630>"
      ]
     },
     "execution_count": 18,
     "metadata": {},
     "output_type": "execute_result"
    },
    {
     "data": {
      "image/png": "[encoded data removed]",
      "text/plain": [
       "<matplotlib.figure.Figure at 0x1e153194128>"
      ]
     },
     "metadata": {},
     "output_type": "display_data"
    }
   ],
   "source": [
    "# generation to image\n",
    "G.eval()\n",
    "imshow(get_sample_image(G, n_noise), cmap='gray')"
   ]
  },
  {
   "cell_type": "code",
   "execution_count": null,
   "metadata": {
    "collapsed": true
   },
   "outputs": [],
   "source": []
  },
  {
   "cell_type": "code",
   "execution_count": 15,
   "metadata": {
    "collapsed": true
   },
   "outputs": [],
   "source": [
    "def save_checkpoint(state, file_name='checkpoint.pth.tar'):\n",
    "    torch.save(state, file_name)"
   ]
  },
  {
   "cell_type": "code",
   "execution_count": 16,
   "metadata": {
    "collapsed": true
   },
   "outputs": [],
   "source": [
    "# Saving params.\n",
    "# torch.save(D.state_dict(), 'D_c.pkl')\n",
    "# torch.save(G.state_dict(), 'G_c.pkl')\n",
    "save_checkpoint({'epoch': epoch + 1, 'state_dict':D.state_dict(), 'optimizer' : D_opt.state_dict()}, 'D_dc.pth.tar')\n",
    "save_checkpoint({'epoch': epoch + 1, 'state_dict':G.state_dict(), 'optimizer' : G_opt.state_dict()}, 'G_dc.pth.tar')"
   ]
  },
  {
   "cell_type": "code",
   "execution_count": null,
   "metadata": {
    "collapsed": true
   },
   "outputs": [],
   "source": []
  }
 ],
 "metadata": {
  "kernelspec": {
   "display_name": "Python 3",
   "language": "python",
   "name": "python3"
  },
  "language_info": {
   "codemirror_mode": {
    "name": "ipython",
    "version": 3
   },
   "file_extension": ".py",
   "mimetype": "text/x-python",
   "name": "python",
   "nbconvert_exporter": "python",
   "pygments_lexer": "ipython3",
   "version": "3.6.8"
  }
 },
 "nbformat": 4,
 "nbformat_minor": 2
}
